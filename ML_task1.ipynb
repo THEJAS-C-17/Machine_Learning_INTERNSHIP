{
  "nbformat": 4,
  "nbformat_minor": 0,
  "metadata": {
    "colab": {
      "provenance": []
    },
    "kernelspec": {
      "name": "python3",
      "display_name": "Python 3"
    },
    "language_info": {
      "name": "python"
    }
  },
  "cells": [
    {
      "cell_type": "code",
      "execution_count": 3,
      "metadata": {
        "id": "rGybjDZob9Mk"
      },
      "outputs": [],
      "source": [
        "import pandas as pd\n",
        "import numpy as np\n",
        "import matplotlib.pyplot as plt\n",
        "import seaborn as sns\n",
        "import missingno as msno\n",
        "from sklearn.model_selection import train_test_split\n",
        "from sklearn.preprocessing import LabelEncoder, StandardScaler\n",
        "from sklearn.linear_model import LinearRegression\n",
        "from sklearn.tree import DecisionTreeRegressor\n",
        "from sklearn.metrics import mean_squared_error, r2_score\n",
        "from sklearn.ensemble import RandomForestClassifier\n",
        "from sklearn.metrics import accuracy_score, precision_score, recall_score, classification_report\n",
        "from sklearn.neighbors import NearestNeighbors\n",
        "import folium\n"
      ]
    },
    {
      "cell_type": "code",
      "source": [
        "df=pd.read_csv('/Dataset .csv')"
      ],
      "metadata": {
        "id": "nTrrZ3QbcQFG"
      },
      "execution_count": 4,
      "outputs": []
    },
    {
      "cell_type": "code",
      "source": [
        "print(df)"
      ],
      "metadata": {
        "colab": {
          "base_uri": "https://localhost:8080/"
        },
        "id": "nF9qZrVdcbgs",
        "outputId": "80162a37-238f-4c26-ae54-8697d6c523c2"
      },
      "execution_count": 5,
      "outputs": [
        {
          "output_type": "stream",
          "name": "stdout",
          "text": [
            "      Restaurant ID           Restaurant Name  Country Code              City  \\\n",
            "0           6317637          Le Petit Souffle           162       Makati City   \n",
            "1           6304287          Izakaya Kikufuji           162       Makati City   \n",
            "2           6300002    Heat - Edsa Shangri-La           162  Mandaluyong City   \n",
            "3           6318506                      Ooma           162  Mandaluyong City   \n",
            "4           6314302               Sambo Kojin           162  Mandaluyong City   \n",
            "...             ...                       ...           ...               ...   \n",
            "9546        5915730               Naml۱ Gurme           208         ��stanbul   \n",
            "9547        5908749              Ceviz A��ac۱           208         ��stanbul   \n",
            "9548        5915807                     Huqqa           208         ��stanbul   \n",
            "9549        5916112               A���k Kahve           208         ��stanbul   \n",
            "9550        5927402  Walter's Coffee Roastery           208         ��stanbul   \n",
            "\n",
            "                                                Address  \\\n",
            "0     Third Floor, Century City Mall, Kalayaan Avenu...   \n",
            "1     Little Tokyo, 2277 Chino Roces Avenue, Legaspi...   \n",
            "2     Edsa Shangri-La, 1 Garden Way, Ortigas, Mandal...   \n",
            "3     Third Floor, Mega Fashion Hall, SM Megamall, O...   \n",
            "4     Third Floor, Mega Atrium, SM Megamall, Ortigas...   \n",
            "...                                                 ...   \n",
            "9546  Kemanke�� Karamustafa Pa��a Mahallesi, R۱ht۱m ...   \n",
            "9547  Ko��uyolu Mahallesi, Muhittin ��st�_nda�� Cadd...   \n",
            "9548  Kuru�_e��me Mahallesi, Muallim Naci Caddesi, N...   \n",
            "9549  Kuru�_e��me Mahallesi, Muallim Naci Caddesi, N...   \n",
            "9550  Cafea��a Mahallesi, Bademalt۱ Sokak, No 21/B, ...   \n",
            "\n",
            "                                        Locality  \\\n",
            "0      Century City Mall, Poblacion, Makati City   \n",
            "1     Little Tokyo, Legaspi Village, Makati City   \n",
            "2     Edsa Shangri-La, Ortigas, Mandaluyong City   \n",
            "3         SM Megamall, Ortigas, Mandaluyong City   \n",
            "4         SM Megamall, Ortigas, Mandaluyong City   \n",
            "...                                          ...   \n",
            "9546                                    Karak�_y   \n",
            "9547                                   Ko��uyolu   \n",
            "9548                                 Kuru�_e��me   \n",
            "9549                                 Kuru�_e��me   \n",
            "9550                                        Moda   \n",
            "\n",
            "                                       Locality Verbose   Longitude  \\\n",
            "0     Century City Mall, Poblacion, Makati City, Mak...  121.027535   \n",
            "1     Little Tokyo, Legaspi Village, Makati City, Ma...  121.014101   \n",
            "2     Edsa Shangri-La, Ortigas, Mandaluyong City, Ma...  121.056831   \n",
            "3     SM Megamall, Ortigas, Mandaluyong City, Mandal...  121.056475   \n",
            "4     SM Megamall, Ortigas, Mandaluyong City, Mandal...  121.057508   \n",
            "...                                                 ...         ...   \n",
            "9546                                Karak�_y, ��stanbul   28.977392   \n",
            "9547                               Ko��uyolu, ��stanbul   29.041297   \n",
            "9548                             Kuru�_e��me, ��stanbul   29.034640   \n",
            "9549                             Kuru�_e��me, ��stanbul   29.036019   \n",
            "9550                                    Moda, ��stanbul   29.026016   \n",
            "\n",
            "       Latitude                          Cuisines  ...          Currency  \\\n",
            "0     14.565443        French, Japanese, Desserts  ...  Botswana Pula(P)   \n",
            "1     14.553708                          Japanese  ...  Botswana Pula(P)   \n",
            "2     14.581404  Seafood, Asian, Filipino, Indian  ...  Botswana Pula(P)   \n",
            "3     14.585318                   Japanese, Sushi  ...  Botswana Pula(P)   \n",
            "4     14.584450                  Japanese, Korean  ...  Botswana Pula(P)   \n",
            "...         ...                               ...  ...               ...   \n",
            "9546  41.022793                           Turkish  ...  Turkish Lira(TL)   \n",
            "9547  41.009847   World Cuisine, Patisserie, Cafe  ...  Turkish Lira(TL)   \n",
            "9548  41.055817            Italian, World Cuisine  ...  Turkish Lira(TL)   \n",
            "9549  41.057979                   Restaurant Cafe  ...  Turkish Lira(TL)   \n",
            "9550  40.984776                              Cafe  ...  Turkish Lira(TL)   \n",
            "\n",
            "     Has Table booking Has Online delivery Is delivering now  \\\n",
            "0                  Yes                  No                No   \n",
            "1                  Yes                  No                No   \n",
            "2                  Yes                  No                No   \n",
            "3                   No                  No                No   \n",
            "4                  Yes                  No                No   \n",
            "...                ...                 ...               ...   \n",
            "9546                No                  No                No   \n",
            "9547                No                  No                No   \n",
            "9548                No                  No                No   \n",
            "9549                No                  No                No   \n",
            "9550                No                  No                No   \n",
            "\n",
            "     Switch to order menu Price range  Aggregate rating  Rating color  \\\n",
            "0                      No           3               4.8    Dark Green   \n",
            "1                      No           3               4.5    Dark Green   \n",
            "2                      No           4               4.4         Green   \n",
            "3                      No           4               4.9    Dark Green   \n",
            "4                      No           4               4.8    Dark Green   \n",
            "...                   ...         ...               ...           ...   \n",
            "9546                   No           3               4.1         Green   \n",
            "9547                   No           3               4.2         Green   \n",
            "9548                   No           4               3.7        Yellow   \n",
            "9549                   No           4               4.0         Green   \n",
            "9550                   No           2               4.0         Green   \n",
            "\n",
            "     Rating text Votes  \n",
            "0      Excellent   314  \n",
            "1      Excellent   591  \n",
            "2      Very Good   270  \n",
            "3      Excellent   365  \n",
            "4      Excellent   229  \n",
            "...          ...   ...  \n",
            "9546   Very Good   788  \n",
            "9547   Very Good  1034  \n",
            "9548        Good   661  \n",
            "9549   Very Good   901  \n",
            "9550   Very Good   591  \n",
            "\n",
            "[9551 rows x 21 columns]\n"
          ]
        }
      ]
    },
    {
      "cell_type": "code",
      "source": [
        "print(df.head())"
      ],
      "metadata": {
        "colab": {
          "base_uri": "https://localhost:8080/"
        },
        "id": "Q97NVNILchdy",
        "outputId": "81d0ae41-d469-45a7-c8de-c648c4c69949"
      },
      "execution_count": 6,
      "outputs": [
        {
          "output_type": "stream",
          "name": "stdout",
          "text": [
            "   Restaurant ID         Restaurant Name  Country Code              City  \\\n",
            "0        6317637        Le Petit Souffle           162       Makati City   \n",
            "1        6304287        Izakaya Kikufuji           162       Makati City   \n",
            "2        6300002  Heat - Edsa Shangri-La           162  Mandaluyong City   \n",
            "3        6318506                    Ooma           162  Mandaluyong City   \n",
            "4        6314302             Sambo Kojin           162  Mandaluyong City   \n",
            "\n",
            "                                             Address  \\\n",
            "0  Third Floor, Century City Mall, Kalayaan Avenu...   \n",
            "1  Little Tokyo, 2277 Chino Roces Avenue, Legaspi...   \n",
            "2  Edsa Shangri-La, 1 Garden Way, Ortigas, Mandal...   \n",
            "3  Third Floor, Mega Fashion Hall, SM Megamall, O...   \n",
            "4  Third Floor, Mega Atrium, SM Megamall, Ortigas...   \n",
            "\n",
            "                                     Locality  \\\n",
            "0   Century City Mall, Poblacion, Makati City   \n",
            "1  Little Tokyo, Legaspi Village, Makati City   \n",
            "2  Edsa Shangri-La, Ortigas, Mandaluyong City   \n",
            "3      SM Megamall, Ortigas, Mandaluyong City   \n",
            "4      SM Megamall, Ortigas, Mandaluyong City   \n",
            "\n",
            "                                    Locality Verbose   Longitude   Latitude  \\\n",
            "0  Century City Mall, Poblacion, Makati City, Mak...  121.027535  14.565443   \n",
            "1  Little Tokyo, Legaspi Village, Makati City, Ma...  121.014101  14.553708   \n",
            "2  Edsa Shangri-La, Ortigas, Mandaluyong City, Ma...  121.056831  14.581404   \n",
            "3  SM Megamall, Ortigas, Mandaluyong City, Mandal...  121.056475  14.585318   \n",
            "4  SM Megamall, Ortigas, Mandaluyong City, Mandal...  121.057508  14.584450   \n",
            "\n",
            "                           Cuisines  ...          Currency Has Table booking  \\\n",
            "0        French, Japanese, Desserts  ...  Botswana Pula(P)               Yes   \n",
            "1                          Japanese  ...  Botswana Pula(P)               Yes   \n",
            "2  Seafood, Asian, Filipino, Indian  ...  Botswana Pula(P)               Yes   \n",
            "3                   Japanese, Sushi  ...  Botswana Pula(P)                No   \n",
            "4                  Japanese, Korean  ...  Botswana Pula(P)               Yes   \n",
            "\n",
            "  Has Online delivery Is delivering now Switch to order menu Price range  \\\n",
            "0                  No                No                   No           3   \n",
            "1                  No                No                   No           3   \n",
            "2                  No                No                   No           4   \n",
            "3                  No                No                   No           4   \n",
            "4                  No                No                   No           4   \n",
            "\n",
            "   Aggregate rating  Rating color Rating text Votes  \n",
            "0               4.8    Dark Green   Excellent   314  \n",
            "1               4.5    Dark Green   Excellent   591  \n",
            "2               4.4         Green   Very Good   270  \n",
            "3               4.9    Dark Green   Excellent   365  \n",
            "4               4.8    Dark Green   Excellent   229  \n",
            "\n",
            "[5 rows x 21 columns]\n"
          ]
        }
      ]
    },
    {
      "cell_type": "code",
      "source": [
        "print(df.tail())"
      ],
      "metadata": {
        "colab": {
          "base_uri": "https://localhost:8080/"
        },
        "id": "qPEc3SZiclWM",
        "outputId": "85965ce6-6d46-4394-ae50-9e4de57344dd"
      },
      "execution_count": 7,
      "outputs": [
        {
          "output_type": "stream",
          "name": "stdout",
          "text": [
            "      Restaurant ID           Restaurant Name  Country Code       City  \\\n",
            "9546        5915730               Naml۱ Gurme           208  ��stanbul   \n",
            "9547        5908749              Ceviz A��ac۱           208  ��stanbul   \n",
            "9548        5915807                     Huqqa           208  ��stanbul   \n",
            "9549        5916112               A���k Kahve           208  ��stanbul   \n",
            "9550        5927402  Walter's Coffee Roastery           208  ��stanbul   \n",
            "\n",
            "                                                Address     Locality  \\\n",
            "9546  Kemanke�� Karamustafa Pa��a Mahallesi, R۱ht۱m ...     Karak�_y   \n",
            "9547  Ko��uyolu Mahallesi, Muhittin ��st�_nda�� Cadd...    Ko��uyolu   \n",
            "9548  Kuru�_e��me Mahallesi, Muallim Naci Caddesi, N...  Kuru�_e��me   \n",
            "9549  Kuru�_e��me Mahallesi, Muallim Naci Caddesi, N...  Kuru�_e��me   \n",
            "9550  Cafea��a Mahallesi, Bademalt۱ Sokak, No 21/B, ...         Moda   \n",
            "\n",
            "            Locality Verbose  Longitude   Latitude  \\\n",
            "9546     Karak�_y, ��stanbul  28.977392  41.022793   \n",
            "9547    Ko��uyolu, ��stanbul  29.041297  41.009847   \n",
            "9548  Kuru�_e��me, ��stanbul  29.034640  41.055817   \n",
            "9549  Kuru�_e��me, ��stanbul  29.036019  41.057979   \n",
            "9550         Moda, ��stanbul  29.026016  40.984776   \n",
            "\n",
            "                             Cuisines  ...          Currency  \\\n",
            "9546                          Turkish  ...  Turkish Lira(TL)   \n",
            "9547  World Cuisine, Patisserie, Cafe  ...  Turkish Lira(TL)   \n",
            "9548           Italian, World Cuisine  ...  Turkish Lira(TL)   \n",
            "9549                  Restaurant Cafe  ...  Turkish Lira(TL)   \n",
            "9550                             Cafe  ...  Turkish Lira(TL)   \n",
            "\n",
            "     Has Table booking Has Online delivery Is delivering now  \\\n",
            "9546                No                  No                No   \n",
            "9547                No                  No                No   \n",
            "9548                No                  No                No   \n",
            "9549                No                  No                No   \n",
            "9550                No                  No                No   \n",
            "\n",
            "     Switch to order menu Price range  Aggregate rating  Rating color  \\\n",
            "9546                   No           3               4.1         Green   \n",
            "9547                   No           3               4.2         Green   \n",
            "9548                   No           4               3.7        Yellow   \n",
            "9549                   No           4               4.0         Green   \n",
            "9550                   No           2               4.0         Green   \n",
            "\n",
            "     Rating text Votes  \n",
            "9546   Very Good   788  \n",
            "9547   Very Good  1034  \n",
            "9548        Good   661  \n",
            "9549   Very Good   901  \n",
            "9550   Very Good   591  \n",
            "\n",
            "[5 rows x 21 columns]\n"
          ]
        }
      ]
    },
    {
      "cell_type": "code",
      "source": [
        "print(df.info())"
      ],
      "metadata": {
        "colab": {
          "base_uri": "https://localhost:8080/"
        },
        "id": "yje7L7hocnhN",
        "outputId": "ab202d7e-b50b-45e1-9cb1-96e6960d74fb"
      },
      "execution_count": 8,
      "outputs": [
        {
          "output_type": "stream",
          "name": "stdout",
          "text": [
            "<class 'pandas.core.frame.DataFrame'>\n",
            "RangeIndex: 9551 entries, 0 to 9550\n",
            "Data columns (total 21 columns):\n",
            " #   Column                Non-Null Count  Dtype  \n",
            "---  ------                --------------  -----  \n",
            " 0   Restaurant ID         9551 non-null   int64  \n",
            " 1   Restaurant Name       9551 non-null   object \n",
            " 2   Country Code          9551 non-null   int64  \n",
            " 3   City                  9551 non-null   object \n",
            " 4   Address               9551 non-null   object \n",
            " 5   Locality              9551 non-null   object \n",
            " 6   Locality Verbose      9551 non-null   object \n",
            " 7   Longitude             9551 non-null   float64\n",
            " 8   Latitude              9551 non-null   float64\n",
            " 9   Cuisines              9542 non-null   object \n",
            " 10  Average Cost for two  9551 non-null   int64  \n",
            " 11  Currency              9551 non-null   object \n",
            " 12  Has Table booking     9551 non-null   object \n",
            " 13  Has Online delivery   9551 non-null   object \n",
            " 14  Is delivering now     9551 non-null   object \n",
            " 15  Switch to order menu  9551 non-null   object \n",
            " 16  Price range           9551 non-null   int64  \n",
            " 17  Aggregate rating      9551 non-null   float64\n",
            " 18  Rating color          9551 non-null   object \n",
            " 19  Rating text           9551 non-null   object \n",
            " 20  Votes                 9551 non-null   int64  \n",
            "dtypes: float64(3), int64(5), object(13)\n",
            "memory usage: 1.5+ MB\n",
            "None\n"
          ]
        }
      ]
    },
    {
      "cell_type": "code",
      "source": [
        "# Handling missing values\n",
        "df.dropna(inplace=True)\n",
        "\n",
        "# Identifying categorical columns\n",
        "categorical_cols = df.select_dtypes(include=['object']).columns\n",
        "\n",
        "# One-hot encoding categorical variables\n",
        "df_encoded = pd.get_dummies(df, columns=categorical_cols, drop_first=True)\n",
        "\n",
        "# Splitting data\n",
        "X = df_encoded.drop(columns=['Aggregate rating'])  # Replace with actual rating column name\n",
        "y = df_encoded['Aggregate rating']\n",
        "X_train, X_test, y_train, y_test = train_test_split(X, y, test_size=0.2, random_state=42)\n",
        "\n",
        "# Model training (Linear Regression)\n",
        "model = LinearRegression()\n",
        "model.fit(X_train, y_train)\n",
        "\n",
        "# Predictions and Evaluation\n",
        "y_pred = model.predict(X_test)\n",
        "print(\"MSE:\", mean_squared_error(y_test, y_pred))\n",
        "print(\"R-squared:\", r2_score(y_test, y_pred))\n"
      ],
      "metadata": {
        "colab": {
          "base_uri": "https://localhost:8080/"
        },
        "id": "TuxPFoZ-cqL0",
        "outputId": "3207c1be-2986-4631-a45c-cb2922811ff9"
      },
      "execution_count": 9,
      "outputs": [
        {
          "output_type": "stream",
          "name": "stdout",
          "text": [
            "MSE: 0.05129977391409926\n",
            "R-squared: 0.9775986670018971\n"
          ]
        }
      ]
    },
    {
      "cell_type": "code",
      "source": [
        "print(df.dropna(inplace=True))"
      ],
      "metadata": {
        "colab": {
          "base_uri": "https://localhost:8080/"
        },
        "id": "IoY-P5H8cysi",
        "outputId": "91d6355c-8cc3-437a-f186-cdb52fded119"
      },
      "execution_count": 10,
      "outputs": [
        {
          "output_type": "stream",
          "name": "stdout",
          "text": [
            "None\n"
          ]
        }
      ]
    },
    {
      "cell_type": "code",
      "source": [
        "print(categorical_cols)"
      ],
      "metadata": {
        "colab": {
          "base_uri": "https://localhost:8080/"
        },
        "id": "UzCsjZBXhljt",
        "outputId": "bd661dfc-0005-4db5-da7f-4d435af35cb4"
      },
      "execution_count": 11,
      "outputs": [
        {
          "output_type": "stream",
          "name": "stdout",
          "text": [
            "Index(['Restaurant Name', 'City', 'Address', 'Locality', 'Locality Verbose',\n",
            "       'Cuisines', 'Currency', 'Has Table booking', 'Has Online delivery',\n",
            "       'Is delivering now', 'Switch to order menu', 'Rating color',\n",
            "       'Rating text'],\n",
            "      dtype='object')\n"
          ]
        }
      ]
    },
    {
      "cell_type": "code",
      "source": [
        "print(df_encoded)"
      ],
      "metadata": {
        "colab": {
          "base_uri": "https://localhost:8080/"
        },
        "id": "6MTsFZE3hpSN",
        "outputId": "9a591700-61ba-4a6a-f3a5-86a0672cda70"
      },
      "execution_count": 12,
      "outputs": [
        {
          "output_type": "stream",
          "name": "stdout",
          "text": [
            "      Restaurant ID  Country Code   Longitude   Latitude  \\\n",
            "0           6317637           162  121.027535  14.565443   \n",
            "1           6304287           162  121.014101  14.553708   \n",
            "2           6300002           162  121.056831  14.581404   \n",
            "3           6318506           162  121.056475  14.585318   \n",
            "4           6314302           162  121.057508  14.584450   \n",
            "...             ...           ...         ...        ...   \n",
            "9546        5915730           208   28.977392  41.022793   \n",
            "9547        5908749           208   29.041297  41.009847   \n",
            "9548        5915807           208   29.034640  41.055817   \n",
            "9549        5916112           208   29.036019  41.057979   \n",
            "9550        5927402           208   29.026016  40.984776   \n",
            "\n",
            "      Average Cost for two  Price range  Aggregate rating  Votes  \\\n",
            "0                     1100            3               4.8    314   \n",
            "1                     1200            3               4.5    591   \n",
            "2                     4000            4               4.4    270   \n",
            "3                     1500            4               4.9    365   \n",
            "4                     1500            4               4.8    229   \n",
            "...                    ...          ...               ...    ...   \n",
            "9546                    80            3               4.1    788   \n",
            "9547                   105            3               4.2   1034   \n",
            "9548                   170            4               3.7    661   \n",
            "9549                   120            4               4.0    901   \n",
            "9550                    55            2               4.0    591   \n",
            "\n",
            "      Restaurant Name_#Dilliwaala6  Restaurant Name_#InstaFreeze  ...  \\\n",
            "0                            False                         False  ...   \n",
            "1                            False                         False  ...   \n",
            "2                            False                         False  ...   \n",
            "3                            False                         False  ...   \n",
            "4                            False                         False  ...   \n",
            "...                            ...                           ...  ...   \n",
            "9546                         False                         False  ...   \n",
            "9547                         False                         False  ...   \n",
            "9548                         False                         False  ...   \n",
            "9549                         False                         False  ...   \n",
            "9550                         False                         False  ...   \n",
            "\n",
            "      Rating color_Green  Rating color_Orange  Rating color_Red  \\\n",
            "0                  False                False             False   \n",
            "1                  False                False             False   \n",
            "2                   True                False             False   \n",
            "3                  False                False             False   \n",
            "4                  False                False             False   \n",
            "...                  ...                  ...               ...   \n",
            "9546                True                False             False   \n",
            "9547                True                False             False   \n",
            "9548               False                False             False   \n",
            "9549                True                False             False   \n",
            "9550                True                False             False   \n",
            "\n",
            "      Rating color_White  Rating color_Yellow  Rating text_Excellent  \\\n",
            "0                  False                False                   True   \n",
            "1                  False                False                   True   \n",
            "2                  False                False                  False   \n",
            "3                  False                False                   True   \n",
            "4                  False                False                   True   \n",
            "...                  ...                  ...                    ...   \n",
            "9546               False                False                  False   \n",
            "9547               False                False                  False   \n",
            "9548               False                 True                  False   \n",
            "9549               False                False                  False   \n",
            "9550               False                False                  False   \n",
            "\n",
            "      Rating text_Good  Rating text_Not rated  Rating text_Poor  \\\n",
            "0                False                  False             False   \n",
            "1                False                  False             False   \n",
            "2                False                  False             False   \n",
            "3                False                  False             False   \n",
            "4                False                  False             False   \n",
            "...                ...                    ...               ...   \n",
            "9546             False                  False             False   \n",
            "9547             False                  False             False   \n",
            "9548              True                  False             False   \n",
            "9549             False                  False             False   \n",
            "9550             False                  False             False   \n",
            "\n",
            "      Rating text_Very Good  \n",
            "0                     False  \n",
            "1                     False  \n",
            "2                      True  \n",
            "3                     False  \n",
            "4                     False  \n",
            "...                     ...  \n",
            "9546                   True  \n",
            "9547                   True  \n",
            "9548                  False  \n",
            "9549                   True  \n",
            "9550                   True  \n",
            "\n",
            "[9542 rows x 20807 columns]\n"
          ]
        }
      ]
    },
    {
      "cell_type": "code",
      "source": [
        "print(X_train)"
      ],
      "metadata": {
        "colab": {
          "base_uri": "https://localhost:8080/"
        },
        "id": "DKzXfy2Ohuez",
        "outputId": "3c5707fb-0ed4-4dd0-a0a5-d65460013325"
      },
      "execution_count": 13,
      "outputs": [
        {
          "output_type": "stream",
          "name": "stdout",
          "text": [
            "      Restaurant ID  Country Code  Longitude   Latitude  Average Cost for two  \\\n",
            "8177       18383466             1  77.353663  28.574219                   450   \n",
            "6401            216             1  77.134360  28.671141                   700   \n",
            "81          6713772            30 -46.746958 -23.609207                   120   \n",
            "1332       18462605             1  77.086080  28.482318                   300   \n",
            "9041           4482             1  77.339801  28.586405                   500   \n",
            "...             ...           ...        ...        ...                   ...   \n",
            "5743       18233572             1  77.052860  28.664641                   250   \n",
            "5200         311161             1  77.211180  28.536406                   300   \n",
            "5399         312983             1  77.128051  28.478595                   500   \n",
            "869          301731             1  77.305745  28.490062                   100   \n",
            "7279       18361770             1  77.156650  28.705019                   300   \n",
            "\n",
            "      Price range  Votes  Restaurant Name_#Dilliwaala6  \\\n",
            "8177            1      6                         False   \n",
            "6401            2    112                         False   \n",
            "81              4     11                         False   \n",
            "1332            1      0                         False   \n",
            "9041            2     93                         False   \n",
            "...           ...    ...                           ...   \n",
            "5743            1      1                         False   \n",
            "5200            1    308                         False   \n",
            "5399            2      4                         False   \n",
            "869             1      7                         False   \n",
            "7279            1      3                         False   \n",
            "\n",
            "      Restaurant Name_#InstaFreeze  Restaurant Name_#OFF Campus  ...  \\\n",
            "8177                         False                        False  ...   \n",
            "6401                         False                        False  ...   \n",
            "81                           False                        False  ...   \n",
            "1332                         False                        False  ...   \n",
            "9041                         False                        False  ...   \n",
            "...                            ...                          ...  ...   \n",
            "5743                         False                        False  ...   \n",
            "5200                         False                        False  ...   \n",
            "5399                         False                        False  ...   \n",
            "869                          False                        False  ...   \n",
            "7279                         False                        False  ...   \n",
            "\n",
            "      Rating color_Green  Rating color_Orange  Rating color_Red  \\\n",
            "8177               False                 True             False   \n",
            "6401               False                 True             False   \n",
            "81                  True                False             False   \n",
            "1332               False                False             False   \n",
            "9041               False                 True             False   \n",
            "...                  ...                  ...               ...   \n",
            "5743               False                False             False   \n",
            "5200                True                False             False   \n",
            "5399               False                 True             False   \n",
            "869                False                 True             False   \n",
            "7279               False                False             False   \n",
            "\n",
            "      Rating color_White  Rating color_Yellow  Rating text_Excellent  \\\n",
            "8177               False                False                  False   \n",
            "6401               False                False                  False   \n",
            "81                 False                False                  False   \n",
            "1332                True                False                  False   \n",
            "9041               False                False                  False   \n",
            "...                  ...                  ...                    ...   \n",
            "5743                True                False                  False   \n",
            "5200               False                False                  False   \n",
            "5399               False                False                  False   \n",
            "869                False                False                  False   \n",
            "7279                True                False                  False   \n",
            "\n",
            "      Rating text_Good  Rating text_Not rated  Rating text_Poor  \\\n",
            "8177             False                  False             False   \n",
            "6401             False                  False             False   \n",
            "81               False                  False             False   \n",
            "1332             False                   True             False   \n",
            "9041             False                  False             False   \n",
            "...                ...                    ...               ...   \n",
            "5743             False                   True             False   \n",
            "5200             False                  False             False   \n",
            "5399             False                  False             False   \n",
            "869              False                  False             False   \n",
            "7279             False                   True             False   \n",
            "\n",
            "      Rating text_Very Good  \n",
            "8177                  False  \n",
            "6401                  False  \n",
            "81                     True  \n",
            "1332                  False  \n",
            "9041                  False  \n",
            "...                     ...  \n",
            "5743                  False  \n",
            "5200                   True  \n",
            "5399                  False  \n",
            "869                   False  \n",
            "7279                  False  \n",
            "\n",
            "[7633 rows x 20806 columns]\n"
          ]
        }
      ]
    },
    {
      "cell_type": "code",
      "source": [
        "print(X_test)"
      ],
      "metadata": {
        "colab": {
          "base_uri": "https://localhost:8080/"
        },
        "id": "Ogy3-Ll9hy4G",
        "outputId": "4ac3fd45-031a-4383-f4f0-453166741fe9"
      },
      "execution_count": 14,
      "outputs": [
        {
          "output_type": "stream",
          "name": "stdout",
          "text": [
            "      Restaurant ID  Country Code  Longitude   Latitude  Average Cost for two  \\\n",
            "7142       18128874             1   0.000000   0.000000                   150   \n",
            "1860       18281955             1  77.064227  28.467934                  1500   \n",
            "4425         302898             1  77.250660  28.543755                   250   \n",
            "3219           2437             1  77.230277  28.572796                  1500   \n",
            "8308       18440413             1  77.331711  28.548867                   200   \n",
            "...             ...           ...        ...        ...                   ...   \n",
            "5612       18449661             1  77.219281  28.709557                   100   \n",
            "4061       18464687             1   0.000000   0.000000                   500   \n",
            "8746       18252364             1  77.385241  28.569480                   400   \n",
            "7678       18499450             1  77.056812  28.622119                   400   \n",
            "4430           3634             1  77.252032  28.543064                   250   \n",
            "\n",
            "      Price range  Votes  Restaurant Name_#Dilliwaala6  \\\n",
            "7142            1      2                         False   \n",
            "1860            3    105                         False   \n",
            "4425            1     55                         False   \n",
            "3219            3    245                         False   \n",
            "8308            1      0                         False   \n",
            "...           ...    ...                           ...   \n",
            "5612            1      0                         False   \n",
            "4061            2      0                         False   \n",
            "8746            1      0                         False   \n",
            "7678            1      3                         False   \n",
            "4430            1     91                         False   \n",
            "\n",
            "      Restaurant Name_#InstaFreeze  Restaurant Name_#OFF Campus  ...  \\\n",
            "7142                         False                        False  ...   \n",
            "1860                         False                        False  ...   \n",
            "4425                         False                        False  ...   \n",
            "3219                         False                        False  ...   \n",
            "8308                         False                        False  ...   \n",
            "...                            ...                          ...  ...   \n",
            "5612                         False                        False  ...   \n",
            "4061                         False                        False  ...   \n",
            "8746                         False                        False  ...   \n",
            "7678                         False                        False  ...   \n",
            "4430                         False                        False  ...   \n",
            "\n",
            "      Rating color_Green  Rating color_Orange  Rating color_Red  \\\n",
            "7142               False                False             False   \n",
            "1860                True                False             False   \n",
            "4425               False                 True             False   \n",
            "3219               False                False             False   \n",
            "8308               False                False             False   \n",
            "...                  ...                  ...               ...   \n",
            "5612               False                False             False   \n",
            "4061               False                False             False   \n",
            "8746               False                False             False   \n",
            "7678               False                False             False   \n",
            "4430               False                 True             False   \n",
            "\n",
            "      Rating color_White  Rating color_Yellow  Rating text_Excellent  \\\n",
            "7142                True                False                  False   \n",
            "1860               False                False                  False   \n",
            "4425               False                False                  False   \n",
            "3219               False                 True                  False   \n",
            "8308                True                False                  False   \n",
            "...                  ...                  ...                    ...   \n",
            "5612                True                False                  False   \n",
            "4061                True                False                  False   \n",
            "8746                True                False                  False   \n",
            "7678                True                False                  False   \n",
            "4430               False                False                  False   \n",
            "\n",
            "      Rating text_Good  Rating text_Not rated  Rating text_Poor  \\\n",
            "7142             False                   True             False   \n",
            "1860             False                  False             False   \n",
            "4425             False                  False             False   \n",
            "3219              True                  False             False   \n",
            "8308             False                   True             False   \n",
            "...                ...                    ...               ...   \n",
            "5612             False                   True             False   \n",
            "4061             False                   True             False   \n",
            "8746             False                   True             False   \n",
            "7678             False                   True             False   \n",
            "4430             False                  False             False   \n",
            "\n",
            "      Rating text_Very Good  \n",
            "7142                  False  \n",
            "1860                   True  \n",
            "4425                  False  \n",
            "3219                  False  \n",
            "8308                  False  \n",
            "...                     ...  \n",
            "5612                  False  \n",
            "4061                  False  \n",
            "8746                  False  \n",
            "7678                  False  \n",
            "4430                  False  \n",
            "\n",
            "[1909 rows x 20806 columns]\n"
          ]
        }
      ]
    },
    {
      "cell_type": "code",
      "source": [
        "print(y_train)"
      ],
      "metadata": {
        "colab": {
          "base_uri": "https://localhost:8080/"
        },
        "id": "touvo7hEh1DW",
        "outputId": "99594ad2-e091-4935-d621-ca745e20e5bf"
      },
      "execution_count": 16,
      "outputs": [
        {
          "output_type": "stream",
          "name": "stdout",
          "text": [
            "8177    2.8\n",
            "6401    3.2\n",
            "81      4.1\n",
            "1332    0.0\n",
            "9041    3.4\n",
            "       ... \n",
            "5743    0.0\n",
            "5200    4.0\n",
            "5399    3.0\n",
            "869     2.8\n",
            "7279    0.0\n",
            "Name: Aggregate rating, Length: 7633, dtype: float64\n"
          ]
        }
      ]
    },
    {
      "cell_type": "code",
      "source": [
        "print(y_test)"
      ],
      "metadata": {
        "colab": {
          "base_uri": "https://localhost:8080/"
        },
        "id": "10ZxDevwh4QH",
        "outputId": "7586c3a2-6df9-4035-8d67-606f59c7e10a"
      },
      "execution_count": 17,
      "outputs": [
        {
          "output_type": "stream",
          "name": "stdout",
          "text": [
            "7142    0.0\n",
            "1860    4.1\n",
            "4425    3.3\n",
            "3219    3.9\n",
            "8308    0.0\n",
            "       ... \n",
            "5612    0.0\n",
            "4061    0.0\n",
            "8746    0.0\n",
            "7678    0.0\n",
            "4430    3.3\n",
            "Name: Aggregate rating, Length: 1909, dtype: float64\n"
          ]
        }
      ]
    },
    {
      "cell_type": "code",
      "source": [
        "print(y_pred)"
      ],
      "metadata": {
        "colab": {
          "base_uri": "https://localhost:8080/"
        },
        "id": "pG7RHua9h77x",
        "outputId": "4dfc0ac1-28c7-4ab5-98ad-fe6f2d39b2c3"
      },
      "execution_count": 18,
      "outputs": [
        {
          "output_type": "stream",
          "name": "stdout",
          "text": [
            "[-0.04508521  4.13618071  3.25845705 ... -0.17969713 -0.14377941\n",
            "  3.08539643]\n"
          ]
        }
      ]
    },
    {
      "cell_type": "code",
      "source": [],
      "metadata": {
        "id": "cc2eu0rHiAt_"
      },
      "execution_count": null,
      "outputs": []
    }
  ]
}